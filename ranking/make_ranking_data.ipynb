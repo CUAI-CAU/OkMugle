{
 "cells": [
  {
   "cell_type": "code",
   "execution_count": 1,
   "id": "88e9dc8b-d157-4b08-8fc0-bcc43c8356a7",
   "metadata": {},
   "outputs": [],
   "source": [
    "import pandas as pd\n",
    "import numpy as np\n",
    "import json\n",
    "from tqdm.notebook import tqdm\n",
    "from functools import partial\n",
    "\n",
    "import multiprocessing\n",
    "from multiprocessing import Process, Manager\n",
    "\n",
    "import warnings\n",
    "\n",
    "warnings.filterwarnings(action='ignore')\n",
    "\n",
    "data_dir = './Data/'"
   ]
  },
  {
   "cell_type": "code",
   "execution_count": 2,
   "id": "741af134-4ea7-4718-95a7-86022aa352ae",
   "metadata": {},
   "outputs": [],
   "source": [
    "song_meta_df = pd.read_json(data_dir + 'song_meta_data_v3.json')\n",
    "song_meta_df = song_meta_df.sort_values('id')\n",
    "song_meta_df = song_meta_df.reset_index(drop = True)\n",
    "song_meta_df['song_embedding_idx'] = song_meta_df.index"
   ]
  },
  {
   "cell_type": "code",
   "execution_count": 3,
   "id": "cfe211a0-08bc-4100-891e-6854e83f45a7",
   "metadata": {},
   "outputs": [],
   "source": [
    "with open(data_dir + 'song_id2playlist_wmc.json', 'r') as f:\n",
    "    new_data = json.load(f)"
   ]
  },
  {
   "cell_type": "code",
   "execution_count": 4,
   "id": "01048404-8325-4e2b-9a73-bb2d22b2f65d",
   "metadata": {},
   "outputs": [],
   "source": [
    "song_id_li = song_meta_df['id'].tolist()"
   ]
  },
  {
   "cell_type": "markdown",
   "id": "c7b2db5a-c29e-4b65-aba4-ec567dd34e61",
   "metadata": {
    "tags": []
   },
   "source": [
    "# 상위 Top10 Ranking"
   ]
  },
  {
   "cell_type": "code",
   "execution_count": 5,
   "id": "ecea0f2d-dd3d-44eb-9e56-4310dc738ecd",
   "metadata": {},
   "outputs": [],
   "source": [
    "def get_top10_song_id2playlist(song_id, data):\n",
    "    w_li = data[str(song_id) + 'w']\n",
    "    m_li = data[str(song_id) + 'm']\n",
    "    c_li = data[str(song_id) + 'c']\n",
    "    \n",
    "    w_cnt = 3\n",
    "    m_cnt = 3\n",
    "    c_cnt = 3\n",
    "    \n",
    "    method = 1\n",
    "    \n",
    "    ret_li = set(w_li[: w_cnt + 1] + m_li[: m_cnt + 1] + c_li[: c_cnt + 1])\n",
    "    \n",
    "    while len(ret_li) < 10:\n",
    "        if method == 1:\n",
    "            c_cnt += 1\n",
    "        elif method == 2:\n",
    "            m_cnt += 1\n",
    "        elif method == 3:\n",
    "            w_cnt += 1\n",
    "        \n",
    "        ret_li = set(w_li[: w_cnt + 1] + m_li[: m_cnt + 1] + c_li[: c_cnt + 1])\n",
    "        method += 1\n",
    "        \n",
    "        if method == 4:\n",
    "            method = 1\n",
    "    \n",
    "    ret_li = list(ret_li)\n",
    "    \n",
    "    return ret_li"
   ]
  },
  {
   "cell_type": "code",
   "execution_count": null,
   "id": "f41a4fb4-be8f-443c-a26d-02e4a095d9e5",
   "metadata": {},
   "outputs": [],
   "source": [
    "top10_song_id2playlist = {}\n",
    "\n",
    "for song_id in tqdm(song_id_li):\n",
    "    top10_song_id2playlist[song_id] = get_top10_song_id2playlist(song_id = song_id, data = new_data)"
   ]
  },
  {
   "cell_type": "code",
   "execution_count": null,
   "id": "12c270ac-ff86-44cc-95d0-c7aa93704784",
   "metadata": {},
   "outputs": [],
   "source": [
    "for song_id in tqdm(song_id_li):\n",
    "    cnt = len(top10_song_id2playlist[song_id])\n",
    "    if cnt != 10:\n",
    "        print(song_id, cnt)"
   ]
  },
  {
   "cell_type": "code",
   "execution_count": 8,
   "id": "4c8a2b21-2767-4cd5-8fc0-7ced63f113f3",
   "metadata": {},
   "outputs": [],
   "source": [
    "with open(data_dir + 'top10_song_id2playlist.json', 'w') as f:\n",
    "    json.dump(top10_song_id2playlist, f)"
   ]
  },
  {
   "cell_type": "markdown",
   "id": "112a6b10-467e-47c8-9527-8011848e1f27",
   "metadata": {},
   "source": [
    "# 순위 기반 Top10 Ranking"
   ]
  },
  {
   "cell_type": "code",
   "execution_count": 9,
   "id": "de0c7b92-2954-4134-9a3d-c12a5f3722e4",
   "metadata": {},
   "outputs": [],
   "source": [
    "ranking_song_id2playlist = {}\n",
    "\n",
    "def get_ranking_song_id2playlist(song_id, data):\n",
    "    w_li = data[str(song_id) + 'w']\n",
    "    m_li = data[str(song_id) + 'm']\n",
    "    c_li = data[str(song_id) + 'c']\n",
    "    \n",
    "    score_li = np.array([1 / i for i in range(1, 51)])\n",
    "    total_song_li = list(set(w_li + m_li + c_li))\n",
    "    \n",
    "    song_df = pd.DataFrame(index = total_song_li)\n",
    "    song_df.loc[w_li, 'w_score'] = score_li\n",
    "    song_df.loc[m_li, 'm_score'] = score_li\n",
    "    song_df.loc[c_li, 'c_score'] = score_li\n",
    "    song_df = song_df.fillna(0.02)\n",
    "    \n",
    "    song_df['total_score'] = song_df['w_score'] + song_df['m_score'] + song_df['c_score']\n",
    "    song_df = song_df.sort_values('total_score', ascending = False)\n",
    "    \n",
    "    ret_li = song_df.index.tolist()[:10]\n",
    "    \n",
    "    return ret_li"
   ]
  },
  {
   "cell_type": "code",
   "execution_count": null,
   "id": "6da7d6df-fc6f-4f5c-8fb6-0ae433d9fd2e",
   "metadata": {},
   "outputs": [],
   "source": [
    "ranking_song_id2playlist = {}\n",
    "\n",
    "for song_id in tqdm(song_id_li):\n",
    "    ranking_song_id2playlist[song_id] = get_ranking_song_id2playlist(song_id = song_id, data = new_data)"
   ]
  },
  {
   "cell_type": "code",
   "execution_count": null,
   "id": "76ae415a-f8b9-4dc7-8bc3-d91dc4a69b59",
   "metadata": {},
   "outputs": [],
   "source": [
    "for song_id in tqdm(song_id_li):\n",
    "    cnt = len(ranking_song_id2playlist[song_id])\n",
    "    if cnt != 10:\n",
    "        print(song_id, cnt)"
   ]
  },
  {
   "cell_type": "code",
   "execution_count": 12,
   "id": "cd992460-392e-483b-bacc-5bf9192e2a26",
   "metadata": {},
   "outputs": [],
   "source": [
    "with open(data_dir + 'ranking_song_id2playlist.json', 'w') as f:\n",
    "    json.dump(ranking_song_id2playlist, f)"
   ]
  },
  {
   "cell_type": "code",
   "execution_count": null,
   "id": "3612a3b2-09fa-49d9-8bbb-0ba85d558798",
   "metadata": {},
   "outputs": [],
   "source": []
  }
 ],
 "metadata": {
  "kernelspec": {
   "display_name": "Python 3 (ipykernel)",
   "language": "python",
   "name": "python3"
  },
  "language_info": {
   "codemirror_mode": {
    "name": "ipython",
    "version": 3
   },
   "file_extension": ".py",
   "mimetype": "text/x-python",
   "name": "python",
   "nbconvert_exporter": "python",
   "pygments_lexer": "ipython3",
   "version": "3.9.7"
  }
 },
 "nbformat": 4,
 "nbformat_minor": 5
}
