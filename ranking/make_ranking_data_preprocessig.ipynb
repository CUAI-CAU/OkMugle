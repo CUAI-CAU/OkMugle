{
 "cells": [
  {
   "cell_type": "code",
   "execution_count": 1,
   "id": "d710fe0e-a473-462c-9f94-539842b0df48",
   "metadata": {},
   "outputs": [],
   "source": [
    "import pandas as pd\n",
    "import numpy as np\n",
    "import json\n",
    "from tqdm.notebook import tqdm\n",
    "from functools import partial\n",
    "\n",
    "import multiprocessing\n",
    "from multiprocessing import Process, Manager\n",
    "\n",
    "import warnings\n",
    "\n",
    "warnings.filterwarnings(action='ignore')\n",
    "\n",
    "data_dir = './Data/'"
   ]
  },
  {
   "cell_type": "code",
   "execution_count": 2,
   "id": "084080ad-a923-4388-8e0e-b8c67ce1351c",
   "metadata": {},
   "outputs": [],
   "source": [
    "song_meta_df = pd.read_json(data_dir + 'song_meta_data_v3.json')\n",
    "song_meta_df = song_meta_df.sort_values('id')\n",
    "song_meta_df = song_meta_df.reset_index(drop = True)\n",
    "song_meta_df['song_embedding_idx'] = song_meta_df.index\n",
    "\n",
    "song_id = song_meta_df['id'].tolist()\n",
    "song_embedding_idx = song_meta_df['song_embedding_idx'].tolist()\n",
    "\n",
    "song_id2song_embedding_idx = {}\n",
    "song_embedding_idx2song_id = {}\n",
    "for id, idx in zip(song_id, song_embedding_idx):\n",
    "    song_id2song_embedding_idx[id] = idx\n",
    "    song_embedding_idx2song_id[idx] = id\n",
    "\n",
    "word2vec_embedding = np.load(data_dir + 'word2vec_embedding.npy')\n",
    "mel_embedding = np.load(data_dir + 'tanh_mel_embeding_loss55.npy')\n",
    "cos_embedding = np.load(data_dir + 'get_cos_embedding_63.npy')"
   ]
  },
  {
   "cell_type": "code",
   "execution_count": null,
   "id": "6c335fc7-cbdf-4dc3-9d52-3beffe4d9b33",
   "metadata": {},
   "outputs": [],
   "source": [
    "print(multiprocessing.cpu_count())"
   ]
  },
  {
   "cell_type": "code",
   "execution_count": null,
   "id": "7f49bd09-9d7c-4e09-800d-4296ce8ab05c",
   "metadata": {},
   "outputs": [],
   "source": [
    "from make_ranking_data_multiprocessig import get_json_data\n",
    "\n",
    "song_id_li = song_meta_df['id'].tolist()\n",
    "\n",
    "manager = Manager()\n",
    "\n",
    "song_id2playlist = manager.dict()\n",
    "\n",
    "pool = multiprocessing.Pool(processes = 7)\n",
    "\n",
    "pool.map(partial(get_json_data,\n",
    "                 word2vec_embedding = word2vec_embedding,\n",
    "                 mel_embedding = mel_embedding,\n",
    "                 cos_embedding = cos_embedding,\n",
    "                 song_id2song_embedding_idx = song_id2song_embedding_idx,\n",
    "                 song_embedding_idx2song_id = song_embedding_idx2song_id,\n",
    "                 song_id2playlist = song_id2playlist),\n",
    "         tqdm(song_id_li))\n",
    "\n",
    "pool.close()\n",
    "pool.join()"
   ]
  },
  {
   "cell_type": "code",
   "execution_count": null,
   "id": "43eb85cb-806e-41c5-ad1b-24980ba1c7d6",
   "metadata": {},
   "outputs": [],
   "source": [
    "song_id2playlist = dict(song_id2playlist)\n",
    "len(song_id2playlist)"
   ]
  },
  {
   "cell_type": "code",
   "execution_count": 6,
   "id": "d68d5e10-cea7-468d-857a-ca797a1d5023",
   "metadata": {},
   "outputs": [],
   "source": [
    "with open(data_dir + 'song_id2playlist_wmc.json', 'w') as f:\n",
    "    json.dump(song_id2playlist, f)"
   ]
  },
  {
   "cell_type": "code",
   "execution_count": 7,
   "id": "a5c1636f-2ea5-4fbc-afbf-57ecf4425ab8",
   "metadata": {},
   "outputs": [],
   "source": [
    "with open(data_dir + 'song_id2playlist_wmc.json', 'r') as f:\n",
    "    new_data = json.load(f)"
   ]
  },
  {
   "cell_type": "code",
   "execution_count": null,
   "id": "bc801110-82e1-4aba-8709-87032c194262",
   "metadata": {},
   "outputs": [],
   "source": []
  }
 ],
 "metadata": {
  "kernelspec": {
   "display_name": "Python 3 (ipykernel)",
   "language": "python",
   "name": "python3"
  },
  "language_info": {
   "codemirror_mode": {
    "name": "ipython",
    "version": 3
   },
   "file_extension": ".py",
   "mimetype": "text/x-python",
   "name": "python",
   "nbconvert_exporter": "python",
   "pygments_lexer": "ipython3",
   "version": "3.9.7"
  }
 },
 "nbformat": 4,
 "nbformat_minor": 5
}
