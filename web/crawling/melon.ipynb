{
 "cells": [
  {
   "cell_type": "code",
   "execution_count": 1,
   "id": "05901ddf-745f-4edc-b244-cf84fac9aef3",
   "metadata": {},
   "outputs": [],
   "source": [
    "import pandas as pd"
   ]
  },
  {
   "cell_type": "code",
   "execution_count": 2,
   "id": "d2765818-aa58-4f2c-a6fd-bdf01e8dc135",
   "metadata": {},
   "outputs": [],
   "source": [
    "song_meta_data = pd.read_json('C:/Users/2712q/Tobigs/Data/song_meta_data_v3.json')"
   ]
  },
  {
   "cell_type": "code",
   "execution_count": 4,
   "id": "80f34f68-baaf-4a55-8ef8-f54d65591ffd",
   "metadata": {},
   "outputs": [
    {
     "data": {
      "text/html": [
       "<div>\n",
       "<style scoped>\n",
       "    .dataframe tbody tr th:only-of-type {\n",
       "        vertical-align: middle;\n",
       "    }\n",
       "\n",
       "    .dataframe tbody tr th {\n",
       "        vertical-align: top;\n",
       "    }\n",
       "\n",
       "    .dataframe thead th {\n",
       "        text-align: right;\n",
       "    }\n",
       "</style>\n",
       "<table border=\"1\" class=\"dataframe\">\n",
       "  <thead>\n",
       "    <tr style=\"text-align: right;\">\n",
       "      <th></th>\n",
       "      <th>id</th>\n",
       "      <th>song_name</th>\n",
       "      <th>artist_name_basket</th>\n",
       "      <th>kor_song_gn_gnr_basket</th>\n",
       "      <th>album_name</th>\n",
       "    </tr>\n",
       "  </thead>\n",
       "  <tbody>\n",
       "    <tr>\n",
       "      <th>0</th>\n",
       "      <td>77646</td>\n",
       "      <td>백설공주와 한 난장이</td>\n",
       "      <td>[팻두]</td>\n",
       "      <td>[랩/힙합]</td>\n",
       "      <td>쿵푸하는 팻두가 담긴 일기장</td>\n",
       "    </tr>\n",
       "    <tr>\n",
       "      <th>1</th>\n",
       "      <td>412680</td>\n",
       "      <td>FIESTA</td>\n",
       "      <td>[IZ*ONE (아이즈원)]</td>\n",
       "      <td>[아이돌, 댄스]</td>\n",
       "      <td>BLOOM*IZ</td>\n",
       "    </tr>\n",
       "    <tr>\n",
       "      <th>2</th>\n",
       "      <td>102461</td>\n",
       "      <td>Sunset Beach</td>\n",
       "      <td>[파로 (Pharoh)]</td>\n",
       "      <td>[랩/힙합]</td>\n",
       "      <td>Sunset Beach (선셋비치)</td>\n",
       "    </tr>\n",
       "    <tr>\n",
       "      <th>3</th>\n",
       "      <td>664083</td>\n",
       "      <td>World Gone Mad</td>\n",
       "      <td>[Bastille]</td>\n",
       "      <td>[OST, POP]</td>\n",
       "      <td>BRIGHT : THE ALBUM</td>\n",
       "    </tr>\n",
       "    <tr>\n",
       "      <th>4</th>\n",
       "      <td>160607</td>\n",
       "      <td>Listen (Album Version) (Feat. Q-Tip)</td>\n",
       "      <td>[Heavy D]</td>\n",
       "      <td>[랩/힙합]</td>\n",
       "      <td>Heavy</td>\n",
       "    </tr>\n",
       "  </tbody>\n",
       "</table>\n",
       "</div>"
      ],
      "text/plain": [
       "       id                             song_name artist_name_basket  \\\n",
       "0   77646                           백설공주와 한 난장이               [팻두]   \n",
       "1  412680                                FIESTA    [IZ*ONE (아이즈원)]   \n",
       "2  102461                          Sunset Beach      [파로 (Pharoh)]   \n",
       "3  664083                        World Gone Mad         [Bastille]   \n",
       "4  160607  Listen (Album Version) (Feat. Q-Tip)          [Heavy D]   \n",
       "\n",
       "  kor_song_gn_gnr_basket           album_name  \n",
       "0                 [랩/힙합]      쿵푸하는 팻두가 담긴 일기장  \n",
       "1              [아이돌, 댄스]             BLOOM*IZ  \n",
       "2                 [랩/힙합]  Sunset Beach (선셋비치)  \n",
       "3             [OST, POP]   BRIGHT : THE ALBUM  \n",
       "4                 [랩/힙합]                Heavy  "
      ]
     },
     "execution_count": 4,
     "metadata": {},
     "output_type": "execute_result"
    }
   ],
   "source": [
    "cols = ['id', 'song_name', 'artist_name_basket', 'kor_song_gn_gnr_basket', 'album_name']\n",
    "\n",
    "song_meta_data[cols].head()"
   ]
  },
  {
   "cell_type": "code",
   "execution_count": null,
   "id": "22faeb46-85e1-4078-92ce-8d6a21470b98",
   "metadata": {},
   "outputs": [],
   "source": []
  }
 ],
 "metadata": {
  "kernelspec": {
   "display_name": "Python 3 (ipykernel)",
   "language": "python",
   "name": "python3"
  },
  "language_info": {
   "codemirror_mode": {
    "name": "ipython",
    "version": 3
   },
   "file_extension": ".py",
   "mimetype": "text/x-python",
   "name": "python",
   "nbconvert_exporter": "python",
   "pygments_lexer": "ipython3",
   "version": "3.9.7"
  }
 },
 "nbformat": 4,
 "nbformat_minor": 5
}
